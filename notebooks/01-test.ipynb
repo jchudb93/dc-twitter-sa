{
 "cells": [
  {
   "cell_type": "code",
   "execution_count": 5,
   "metadata": {},
   "outputs": [],
   "source": [
    "import re\n",
    "import pandas as pd \n",
    "import numpy as np \n",
    "import matplotlib.pyplot as plt \n",
    "import seaborn as sns\n",
    "import string\n",
    "import nltk\n",
    "import warnings \n",
    "import tweepy\n",
    "warnings.filterwarnings(\"ignore\", category=DeprecationWarning)\n",
    "\n",
    "%matplotlib inline"
   ]
  },
  {
   "cell_type": "code",
   "execution_count": 6,
   "metadata": {},
   "outputs": [],
   "source": [
    "consumer_key = 'L7dZDpDE85MYRkMdn6LRjgDpI'\n",
    "consumer_secret = 'jYIJ3lufB11CeECmBUVqqS76BjXrQuYedeRqRTBq6p5uUcTsmP'\n",
    "access_token = '43551104-zNapT000CHIlZAco7sMhO8FcOABi1jrF1JO6cR980'\n",
    "access_token_secret = 'zRktl7Woy8ElULp8FSQq8DBw4gn81s9sKhRy4rhOjPptH'\n",
    "auth = tweepy.OAuthHandler(consumer_key, consumer_secret)\n",
    "auth.set_access_token(access_token, access_token_secret)\n",
    "api = tweepy.API(auth)"
   ]
  },
  {
   "cell_type": "code",
   "execution_count": 7,
   "metadata": {},
   "outputs": [],
   "source": [
    " #Se pregunta por la palabra a preguntar\n",
    "palabra = input(\"Buscar: \")"
   ]
  },
  {
   "cell_type": "code",
   "execution_count": 8,
   "metadata": {},
   "outputs": [],
   "source": [
    "numero_de_Tweets = int(input(u\"Número de tweets a capturar: \"))"
   ]
  },
  {
   "cell_type": "code",
   "execution_count": 9,
   "metadata": {},
   "outputs": [],
   "source": [
    " #Se define el idioma de los tweets a analizar\n",
    "lenguaje = input(\"Idioma [es/en]:\")"
   ]
  },
  {
   "cell_type": "code",
   "execution_count": 10,
   "metadata": {},
   "outputs": [],
   "source": [
    "def ObtenerTweets(palabra=\"Trump\",times=100,leguanje=\"en\"):\n",
    "    #Se define las listas que capturan la popularidad\n",
    "    popularidad_list = []\n",
    "    numeros_list = []\n",
    "    numero = 1\n",
    "    for tweet in tweepy.Cursor(api.search, palabra, lang=lenguaje).items(numero_de_Tweets):\n",
    "        try:\n",
    "            #Se toma el texto, se hace el analisis de sentimiento\n",
    "            #y se agrega el resultado a las listas\n",
    "            analisis = TextBlob(tweet.text)\n",
    "            analisis = analisis.sentiment\n",
    "            popularidad = analisis.polarity\n",
    "            popularidad_list.append(popularidad)\n",
    "            numeros_list.append(numero)\n",
    "            numero = numero + 1\n",
    "\n",
    "        except tweepy.TweepError as e:\n",
    "            print(e.reason)\n",
    "\n",
    "        except StopIteration:\n",
    "            break\n",
    "    return (numeros_list,popularidad_list,numero)"
   ]
  },
  {
   "cell_type": "code",
   "execution_count": 12,
   "metadata": {},
   "outputs": [],
   "source": [
    "def GraficarDatos(numeros_list,popularidad_list,numero):\n",
    "    axes = plt.gca()\n",
    "    axes.set_ylim([-1, 2])\n",
    "    \n",
    "    plt.scatter(numeros_list, popularidad_list)\n",
    "    popularidadPromedio = (sum(popularidad_list))/(len(popularidad_list))\n",
    "    popularidadPromedio = \"{0:.0f}%\".format(popularidadPromedio * 100)\n",
    "    time  = datetime.now().strftime(\"A : %H:%M\\n El: %m-%d-%y\")\n",
    "    plt.text(0, 1.25, \n",
    "             \"Sentimiento promedio:  \" + str(popularidadPromedio) + \"\\n\" + time, \n",
    "             fontsize=12, \n",
    "             bbox = dict(facecolor='none', \n",
    "                         edgecolor='black', \n",
    "                         boxstyle='square, pad = 1'))\n",
    "    \n",
    "    plt.title(\"Sentimientos sobre \" + palabra + \" en twitter\")\n",
    "    plt.xlabel(\"Numero de tweets\")\n",
    "    plt.ylabel(\"Sentimiento\")\n",
    "    plt.show()"
   ]
  },
  {
   "cell_type": "code",
   "execution_count": 13,
   "metadata": {},
   "outputs": [],
   "source": [
    "numeros_list,popularidad_list,numero = ObtenerTweets(palabra,numero_de_Tweets,lenguaje)"
   ]
  },
  {
   "cell_type": "code",
   "execution_count": 17,
   "metadata": {},
   "outputs": [
    {
     "data": {
      "text/plain": [
       "101"
      ]
     },
     "execution_count": 17,
     "metadata": {},
     "output_type": "execute_result"
    }
   ],
   "source": [
    "numero"
   ]
  },
  {
   "cell_type": "code",
   "execution_count": 14,
   "metadata": {},
   "outputs": [
    {
     "data": {
      "image/png": "[encoded data removed]",
      "text/plain": [
       "<matplotlib.figure.Figure at 0x7f9fe4de7dd8>"
      ]
     },
     "metadata": {},
     "output_type": "display_data"
    }
   ],
   "source": [
    "GraficarDatos(numeros_list,popularidad_list,numero)"
   ]
  },
  {
   "cell_type": "code",
   "execution_count": 14,
   "metadata": {},
   "outputs": [
    {
     "ename": "ModuleNotFoundError",
     "evalue": "No module named 'TextBlob'",
     "output_type": "error",
     "traceback": [
      "\u001b[0;31m---------------------------------------------------------------------------\u001b[0m",
      "\u001b[0;31mModuleNotFoundError\u001b[0m                       Traceback (most recent call last)",
      "\u001b[0;32m<ipython-input-14-c05523ba5002>\u001b[0m in \u001b[0;36m<module>\u001b[0;34m()\u001b[0m\n\u001b[0;32m----> 1\u001b[0;31m \u001b[0;32mimport\u001b[0m \u001b[0mTextBlob\u001b[0m\u001b[0;34m\u001b[0m\u001b[0m\n\u001b[0m",
      "\u001b[0;31mModuleNotFoundError\u001b[0m: No module named 'TextBlob'"
     ]
    }
   ],
   "source": [
    "import TextBlob"
   ]
  },
  {
   "cell_type": "code",
   "execution_count": 15,
   "metadata": {},
   "outputs": [
    {
     "name": "stdout",
     "output_type": "stream",
     "text": [
      "Collecting TextBlob\n",
      "  Downloading https://files.pythonhosted.org/packages/60/f0/1d9bfcc8ee6b83472ec571406bd0dd51c0e6330ff1a51b2d29861d389e85/textblob-0.15.3-py2.py3-none-any.whl (636kB)\n",
      "\u001b[K    100% |████████████████████████████████| 645kB 862kB/s \n",
      "\u001b[?25hRequirement already satisfied: nltk>=3.1 in /home/jchu/anaconda3/lib/python3.6/site-packages (from TextBlob)\n",
      "Requirement already satisfied: six in /home/jchu/anaconda3/lib/python3.6/site-packages (from nltk>=3.1->TextBlob)\n",
      "Installing collected packages: TextBlob\n",
      "Successfully installed TextBlob-0.15.3\n",
      "\u001b[33mYou are using pip version 9.0.1, however version 19.0.3 is available.\n",
      "You should consider upgrading via the 'pip install --upgrade pip' command.\u001b[0m\n"
     ]
    }
   ],
   "source": [
    "!pip install TextBlob"
   ]
  }
 ],
 "metadata": {
  "kernelspec": {
   "display_name": "Python 3",
   "language": "python",
   "name": "python3"
  },
  "language_info": {
   "codemirror_mode": {
    "name": "ipython",
    "version": 3
   },
   "file_extension": ".py",
   "mimetype": "text/x-python",
   "name": "python",
   "nbconvert_exporter": "python",
   "pygments_lexer": "ipython3",
   "version": "3.6.4"
  }
 },
 "nbformat": 4,
 "nbformat_minor": 2
}
