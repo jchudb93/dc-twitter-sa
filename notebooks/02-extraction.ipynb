{
 "cells": [
  {
   "cell_type": "code",
   "execution_count": 1,
   "metadata": {},
   "outputs": [],
   "source": [
    "import re\n",
    "import pandas as pd \n",
    "import numpy as np \n",
    "import matplotlib.pyplot as plt \n",
    "import seaborn as sns\n",
    "import string\n",
    "import nltk\n",
    "import warnings \n",
    "import tweepy\n",
    "warnings.filterwarnings(\"ignore\", category=DeprecationWarning)\n",
    "\n",
    "%matplotlib inline"
   ]
  },
  {
   "cell_type": "code",
   "execution_count": 2,
   "metadata": {},
   "outputs": [],
   "source": [
    "consumer_key = 'L7dZDpDE85MYRkMdn6LRjgDpI'\n",
    "consumer_secret = 'jYIJ3lufB11CeECmBUVqqS76BjXrQuYedeRqRTBq6p5uUcTsmP'\n",
    "access_token = '43551104-zNapT000CHIlZAco7sMhO8FcOABi1jrF1JO6cR980'\n",
    "access_token_secret = 'zRktl7Woy8ElULp8FSQq8DBw4gn81s9sKhRy4rhOjPptH'\n",
    "auth = tweepy.OAuthHandler(consumer_key, consumer_secret)\n",
    "auth.set_access_token(access_token, access_token_secret)\n",
    "api = tweepy.API(auth)"
   ]
  },
  {
   "cell_type": "code",
   "execution_count": 23,
   "metadata": {},
   "outputs": [],
   "source": [
    "tweets = []\n",
    "for tweet in tweepy.Cursor(api.search, q='#datascience #lima', lang='es').items(1000):\n",
    "    tweets.append(tweet)"
   ]
  },
  {
   "cell_type": "code",
   "execution_count": 24,
   "metadata": {},
   "outputs": [],
   "source": [
    "tweets_df = pd.DataFrame(vars(tweets[i]) for i in range(len(tweets)))"
   ]
  },
  {
   "cell_type": "code",
   "execution_count": 25,
   "metadata": {},
   "outputs": [],
   "source": [
    "tweet_atts = [\n",
    "'text', 'created_at', 'favorite_count',\n",
    "'lang', 'retweet_count', 'source',\n",
    "'in_reply_to_user_id_str', 'retweeted',\n",
    "'id'\n",
    "]\n",
    "\n",
    "# subset dataframe\n",
    "tweets_df = tweets_df[tweet_atts]"
   ]
  },
  {
   "cell_type": "code",
   "execution_count": 26,
   "metadata": {},
   "outputs": [
    {
     "data": {
      "text/html": [
       "<div>\n",
       "<style scoped>\n",
       "    .dataframe tbody tr th:only-of-type {\n",
       "        vertical-align: middle;\n",
       "    }\n",
       "\n",
       "    .dataframe tbody tr th {\n",
       "        vertical-align: top;\n",
       "    }\n",
       "\n",
       "    .dataframe thead th {\n",
       "        text-align: right;\n",
       "    }\n",
       "</style>\n",
       "<table border=\"1\" class=\"dataframe\">\n",
       "  <thead>\n",
       "    <tr style=\"text-align: right;\">\n",
       "      <th></th>\n",
       "      <th>text</th>\n",
       "      <th>created_at</th>\n",
       "      <th>favorite_count</th>\n",
       "      <th>lang</th>\n",
       "      <th>retweet_count</th>\n",
       "      <th>source</th>\n",
       "      <th>in_reply_to_user_id_str</th>\n",
       "      <th>retweeted</th>\n",
       "      <th>id</th>\n",
       "    </tr>\n",
       "  </thead>\n",
       "  <tbody>\n",
       "    <tr>\n",
       "      <th>0</th>\n",
       "      <td>RT @PeredaRea: Participando en el evento de Da...</td>\n",
       "      <td>2019-02-23 14:13:05</td>\n",
       "      <td>0</td>\n",
       "      <td>es</td>\n",
       "      <td>1</td>\n",
       "      <td>Twitter for Android</td>\n",
       "      <td>None</td>\n",
       "      <td>False</td>\n",
       "      <td>1099311186539991040</td>\n",
       "    </tr>\n",
       "    <tr>\n",
       "      <th>1</th>\n",
       "      <td>Participando en el evento de Data Science en l...</td>\n",
       "      <td>2019-02-23 14:11:50</td>\n",
       "      <td>1</td>\n",
       "      <td>es</td>\n",
       "      <td>1</td>\n",
       "      <td>Twitter for iPhone</td>\n",
       "      <td>None</td>\n",
       "      <td>False</td>\n",
       "      <td>1099310869874466816</td>\n",
       "    </tr>\n",
       "  </tbody>\n",
       "</table>\n",
       "</div>"
      ],
      "text/plain": [
       "                                                text          created_at  \\\n",
       "0  RT @PeredaRea: Participando en el evento de Da... 2019-02-23 14:13:05   \n",
       "1  Participando en el evento de Data Science en l... 2019-02-23 14:11:50   \n",
       "\n",
       "   favorite_count lang  retweet_count               source  \\\n",
       "0               0   es              1  Twitter for Android   \n",
       "1               1   es              1   Twitter for iPhone   \n",
       "\n",
       "  in_reply_to_user_id_str  retweeted                   id  \n",
       "0                    None      False  1099311186539991040  \n",
       "1                    None      False  1099310869874466816  "
      ]
     },
     "execution_count": 26,
     "metadata": {},
     "output_type": "execute_result"
    }
   ],
   "source": [
    "tweets_df.head()"
   ]
  },
  {
   "cell_type": "code",
   "execution_count": 27,
   "metadata": {},
   "outputs": [
    {
     "data": {
      "text/plain": [
       "'/home/jchu/projects/dc-twitter-sa/notebooks'"
      ]
     },
     "execution_count": 27,
     "metadata": {},
     "output_type": "execute_result"
    }
   ],
   "source": [
    "import os\n",
    "os.getcwd()"
   ]
  },
  {
   "cell_type": "code",
   "execution_count": 28,
   "metadata": {},
   "outputs": [],
   "source": [
    "tweets_df.to_csv('../data/tweets.csv')"
   ]
  },
  {
   "cell_type": "code",
   "execution_count": null,
   "metadata": {},
   "outputs": [],
   "source": []
  }
 ],
 "metadata": {
  "kernelspec": {
   "display_name": "Python 3",
   "language": "python",
   "name": "python3"
  },
  "language_info": {
   "codemirror_mode": {
    "name": "ipython",
    "version": 3
   },
   "file_extension": ".py",
   "mimetype": "text/x-python",
   "name": "python",
   "nbconvert_exporter": "python",
   "pygments_lexer": "ipython3",
   "version": "3.6.4"
  }
 },
 "nbformat": 4,
 "nbformat_minor": 2
}
